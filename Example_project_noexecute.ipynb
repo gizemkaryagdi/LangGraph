{
 "cells": [
  {
   "cell_type": "code",
   "execution_count": 2,
   "metadata": {},
   "outputs": [
    {
     "name": "stderr",
     "output_type": "stream",
     "text": [
      "/opt/anaconda3/envs/langchain/lib/python3.11/site-packages/tqdm/auto.py:21: TqdmWarning: IProgress not found. Please update jupyter and ipywidgets. See https://ipywidgets.readthedocs.io/en/stable/user_install.html\n",
      "  from .autonotebook import tqdm as notebook_tqdm\n"
     ]
    }
   ],
   "source": [
    "import os\n",
    "from langchain_openai import ChatOpenAI\n",
    "from crewai import Agent, Task, Crew, Process\n",
    "from langchain_openai import ChatOpenAI"
   ]
  },
  {
   "cell_type": "code",
   "execution_count": 3,
   "metadata": {},
   "outputs": [
    {
     "data": {
      "text/plain": [
       "True"
      ]
     },
     "execution_count": 3,
     "metadata": {},
     "output_type": "execute_result"
    }
   ],
   "source": [
    "from dotenv import load_dotenv\n",
    "load_dotenv()"
   ]
  },
  {
   "cell_type": "code",
   "execution_count": 4,
   "metadata": {},
   "outputs": [],
   "source": [
    "llm =ChatOpenAI(temperature = 0, model = \"gpt-3.5-turbo-16k\")"
   ]
  },
  {
   "cell_type": "code",
   "execution_count": 5,
   "metadata": {},
   "outputs": [],
   "source": [
    "from typing import TypedDict, Annotated, Sequence\n",
    "import operator\n",
    "from langchain_core.messages import BaseMessage\n",
    "\n",
    "\n",
    "class AgentState(TypedDict):\n",
    "    messages: Annotated[Sequence[BaseMessage], operator.add]"
   ]
  },
  {
   "cell_type": "code",
   "execution_count": 6,
   "metadata": {},
   "outputs": [],
   "source": [
    "from langchain.output_parsers import PydanticOutputParser\n",
    "from pydantic import BaseModel , Field\n",
    "from langchain.prompts import PromptTemplate\n",
    "\n",
    "\n",
    "class TopicSelectionParser(BaseModel):\n",
    "    Topic: str = Field(description='Selected Topic')\n",
    "    #Reasoning: str = Field(description='Reasoning behind topic selection')\n",
    "\n",
    "parser = PydanticOutputParser(pydantic_object=TopicSelectionParser)"
   ]
  },
  {
   "cell_type": "code",
   "execution_count": 7,
   "metadata": {},
   "outputs": [],
   "source": [
    "def function_1(state):\n",
    "    print('-> Calling Agent ->')\n",
    "    messages = state['messages']\n",
    "    question = messages[-1]   # Fetching the user question\n",
    "    \n",
    "    template = \"\"\" Your task is to provide only the topic based on the user query. \n",
    "        Only output the topic among: [HTML,CSS]. Don't include reasoning. \n",
    "        Following is the user query:  {question}\n",
    "        {format_instructions} \"\"\"\n",
    "    \n",
    "    prompt = PromptTemplate(template=template,\n",
    "                            input_variables=['question'],\n",
    "                            partial_variables={\"format_instructions\": parser.get_format_instructions()}\n",
    "                           )\n",
    "    chain = prompt | llm | parser\n",
    "\n",
    "    response = chain.invoke({\"question\": question, \"format_instructions\": parser.get_format_instructions()})\n",
    "    print(response)\n",
    "\n",
    "    return {\"messages\": [response.Topic]}"
   ]
  },
  {
   "cell_type": "code",
   "execution_count": 8,
   "metadata": {},
   "outputs": [],
   "source": [
    "def router(state):\n",
    "    print('-> Router ->')\n",
    "    messages = state[\"messages\"]\n",
    "    last_message = messages[-1]\n",
    "    print(last_message)\n",
    "    if 'Engineer' in last_message:\n",
    "        return 'Engineer LLM Call'\n",
    "    elif 'Critic' in last_message:\n",
    "        return 'Critic LLM Call'\n",
    "    else:\n",
    "        return 'Planner LLM Call'\n",
    "\n",
    "def function_2(state):\n",
    "    print('-> Calling Engineer LLM ->')\n",
    "    messages = state['messages']\n",
    "    question = messages[0]  # Fetching the user question\n",
    "\n",
    "    # Normal LLM call\n",
    "    complete_query = \"You are an Expert in HTML & CSS. Answer the following question with your coding knowledge. Following is the user question: \" + question\n",
    "    response = llm.invoke(complete_query)\n",
    "    return {\"messages\": [response]}\n",
    "\n",
    "def function_3(state):\n",
    "    print('-> Calling Critic LLM ->')\n",
    "    messages = state['messages']\n",
    "    question = messages[0]  # Fetching the user question\n",
    "\n",
    "    # Normal LLM call\n",
    "    complete_query = \"You are a code critic. Your only job is make a better suggestion to engineer about what engineer wrote. \" + question\n",
    "    response = llm.invoke(complete_query)\n",
    "    return {\"messages\": [response]}\n",
    "\n",
    "def function_4(state):\n",
    "    print('-> Calling Planner LLM ->')\n",
    "    messages = state['messages']\n",
    "    question = messages[0]  # Fetching the user question\n",
    "\n",
    "    # Normal LLM call\n",
    "    complete_query = \"Planner. Suggest a plan \" + question\n",
    "    response = llm.invoke(complete_query)\n",
    "    return {\"messages\": [response]}\n",
    "\n"
   ]
  },
  {
   "cell_type": "code",
   "execution_count": 9,
   "metadata": {},
   "outputs": [],
   "source": [
    "from langgraph.graph import StateGraph, END\n",
    "\n",
    "graph = StateGraph(AgentState)  # StateGraph with AgentState\n",
    "\n",
    "graph.add_node(\"Engineer_LLM\", function_2)\n",
    "graph.add_node(\"Critic_LLM\", function_3)\n",
    "graph.add_node(\"Planner_LLM\", function_4)\n",
    "\n",
    "graph.set_entry_point(\"Planner_LLM\")\n",
    "\n",
    "\n",
    "graph.add_edge(\"Planner_LLM\", \"Engineer_LLM\")\n",
    "graph.add_edge(\"Engineer_LLM\", \"Critic_LLM\")\n",
    "graph.add_edge(\"Critic_LLM\", END)\n",
    "\n",
    "\n",
    "app = graph.compile()"
   ]
  },
  {
   "cell_type": "code",
   "execution_count": 10,
   "metadata": {},
   "outputs": [
    {
     "data": {
      "image/jpeg": "[encoded data removed]",
      "text/plain": [
       "<IPython.core.display.Image object>"
      ]
     },
     "metadata": {},
     "output_type": "display_data"
    }
   ],
   "source": [
    "from IPython.display import Image, display\n",
    "display(Image(app.get_graph().draw_mermaid_png()))"
   ]
  },
  {
   "cell_type": "code",
   "execution_count": 11,
   "metadata": {},
   "outputs": [
    {
     "name": "stdout",
     "output_type": "stream",
     "text": [
      "-> Calling Planner LLM ->\n",
      "-> Calling Engineer LLM ->\n",
      "-> Calling Critic LLM ->\n"
     ]
    },
    {
     "data": {
      "text/plain": [
       "['<<button class=\"carousel-control-prev\" type=\"button\" data-bs-target=\"#carouselExample\" data-bs-slide=\"Previous slider\" alt=\"Previous slider\">> Engineer, there is a problem in this HTML code. I want you to fix this.',\n",
       " AIMessage(content='I apologize, but as a text-based AI, I am unable to view or modify HTML code directly. However, if you can provide me with the specific issue or error message you are encountering, I would be happy to assist you in troubleshooting and finding a solution.', response_metadata={'token_usage': {'completion_tokens': 53, 'prompt_tokens': 64, 'total_tokens': 117}, 'model_name': 'gpt-3.5-turbo-16k-0613', 'system_fingerprint': None, 'finish_reason': 'stop', 'logprobs': None}, id='run-e0c2d9e3-70b1-4b6f-85cb-4c6ca8a5cb9c-0', usage_metadata={'input_tokens': 64, 'output_tokens': 53, 'total_tokens': 117}),\n",
       " AIMessage(content='The issue in the provided HTML code is with the \"data-bs-slide\" attribute value. The correct value for this attribute should be \"prev\" instead of \"Previous slider\". \\n\\nHere\\'s the corrected HTML code:\\n\\n<button class=\"carousel-control-prev\" type=\"button\" data-bs-target=\"#carouselExample\" data-bs-slide=\"prev\" alt=\"Previous slider\">Previous</button>\\n\\nIn this code, I have replaced \"Previous slider\" with \"prev\" to indicate that the button should slide to the previous slider in the carousel. Additionally, I have added the button text \"Previous\" between the opening and closing button tags for better accessibility.', response_metadata={'token_usage': {'completion_tokens': 128, 'prompt_tokens': 81, 'total_tokens': 209}, 'model_name': 'gpt-3.5-turbo-16k-0613', 'system_fingerprint': None, 'finish_reason': 'stop', 'logprobs': None}, id='run-945000b5-a101-41f6-b292-37213ccd9926-0', usage_metadata={'input_tokens': 81, 'output_tokens': 128, 'total_tokens': 209}),\n",
       " AIMessage(content='Engineer, there is a problem in this HTML code. The issue lies in the incorrect usage of the \"alt\" attribute in the button element. The \"alt\" attribute is typically used for providing alternative text for images, not for describing the purpose or functionality of a button.\\n\\nTo fix this, you should remove the \"alt\" attribute from the button element and consider using a more appropriate attribute, such as \"aria-label\" or \"aria-labelledby\", to provide a descriptive label for the button. Here\\'s an updated version of the code:\\n\\n<button class=\"carousel-control-prev\" type=\"button\" data-bs-target=\"#carouselExample\" data-bs-slide=\"Previous slider\" aria-label=\"Previous slider\"></button>\\n\\nBy using the \"aria-label\" attribute, you can ensure that assistive technologies and screen readers can properly convey the purpose of the button to users with disabilities.', response_metadata={'token_usage': {'completion_tokens': 174, 'prompt_tokens': 78, 'total_tokens': 252}, 'model_name': 'gpt-3.5-turbo-16k-0613', 'system_fingerprint': None, 'finish_reason': 'stop', 'logprobs': None}, id='run-0e84003f-8283-44ff-a5dc-5977ec2b928b-0', usage_metadata={'input_tokens': 78, 'output_tokens': 174, 'total_tokens': 252})]"
      ]
     },
     "execution_count": 11,
     "metadata": {},
     "output_type": "execute_result"
    }
   ],
   "source": [
    "inputs = {\"messages\": ['<<button class=\"carousel-control-prev\" type=\"button\" data-bs-target=\"#carouselExample\" data-bs-slide=\"Previous slider\" alt=\"Previous slider\">> Engineer, there is a problem in this HTML code. I want you to fix this.']}\n",
    "out = app.invoke(inputs)\n",
    "out['messages']"
   ]
  },
  {
   "cell_type": "code",
   "execution_count": 13,
   "metadata": {},
   "outputs": [
    {
     "name": "stdout",
     "output_type": "stream",
     "text": [
      "-> Calling Planner LLM ->\n",
      "-> Calling Engineer LLM ->\n",
      "-> Calling Critic LLM ->\n"
     ]
    },
    {
     "data": {
      "text/plain": [
       "['<<span style=\"color:#58E7E7;\">> Engineer, there is a problem in this CSS code. I want you to fix this.',\n",
       " AIMessage(content=\"Sure, I'd be happy to help you fix the CSS code. Could you please provide me with the code that needs to be fixed and let me know what the problem is?\", response_metadata={'token_usage': {'completion_tokens': 36, 'prompt_tokens': 45, 'total_tokens': 81}, 'model_name': 'gpt-3.5-turbo-16k-0613', 'system_fingerprint': None, 'finish_reason': 'stop', 'logprobs': None}, id='run-a1865db3-9193-4273-a0e8-4ab85bac854a-0', usage_metadata={'input_tokens': 45, 'output_tokens': 36, 'total_tokens': 81}),\n",
       " AIMessage(content=\"Sure, I'd be happy to help you fix the CSS code. Please provide me with the code that needs to be fixed and let me know what the problem is.\", response_metadata={'token_usage': {'completion_tokens': 34, 'prompt_tokens': 62, 'total_tokens': 96}, 'model_name': 'gpt-3.5-turbo-16k-0613', 'system_fingerprint': None, 'finish_reason': 'stop', 'logprobs': None}, id='run-4afb776c-be33-48f5-b3d2-3e7704bb8ff8-0', usage_metadata={'input_tokens': 62, 'output_tokens': 34, 'total_tokens': 96}),\n",
       " AIMessage(content=\"Engineer, I noticed a potential issue in this CSS code that I would like to bring to your attention. It would be beneficial to address the following concern:\\n\\n1. Lack of specificity: It seems that the CSS selectors used in this code may not be specific enough, which could lead to unintended styling conflicts or difficulties in overriding styles. To ensure a more robust and maintainable codebase, I recommend enhancing the specificity of the selectors by including parent elements or using more specific class names.\\n\\nBy addressing this concern, you can improve the code's reliability and minimize potential conflicts.\", response_metadata={'token_usage': {'completion_tokens': 114, 'prompt_tokens': 59, 'total_tokens': 173}, 'model_name': 'gpt-3.5-turbo-16k-0613', 'system_fingerprint': None, 'finish_reason': 'stop', 'logprobs': None}, id='run-a3ad5b6c-122d-4fff-baed-01d48b5071d2-0', usage_metadata={'input_tokens': 59, 'output_tokens': 114, 'total_tokens': 173})]"
      ]
     },
     "execution_count": 13,
     "metadata": {},
     "output_type": "execute_result"
    }
   ],
   "source": [
    "inputs = {\"messages\": ['<<span style=\"color:#58E7E7;\">> Engineer, there is a problem in this CSS code. I want you to fix this.']}\n",
    "out = app.invoke(inputs)\n",
    "out['messages']\n"
   ]
  },
  {
   "cell_type": "code",
   "execution_count": 15,
   "metadata": {},
   "outputs": [
    {
     "name": "stdout",
     "output_type": "stream",
     "text": [
      "-> Calling Planner LLM ->\n",
      "-> Calling Engineer LLM ->\n",
      "-> Calling Critic LLM ->\n"
     ]
    },
    {
     "data": {
      "text/plain": [
       "['<<h4 class=\"heading\">> Engineer, there is a problem in this HTML code. I want you to fix this.',\n",
       " AIMessage(content=\"Sure, I'd be happy to help you fix the problem in the HTML code. However, since you haven't provided any specific details about the issue or the code itself, I'll provide a general plan to help you troubleshoot and fix HTML code problems:\\n\\n1. Identify the problem: Start by understanding the specific issue you're facing with the HTML code. Is it not displaying correctly, causing errors, or behaving unexpectedly? Determine the symptoms and try to narrow down the problem.\\n\\n2. Review the code: Take a close look at the HTML code in question. Check for any obvious errors, such as missing tags, incorrect syntax, or typos. Pay attention to any specific areas or elements that might be causing the problem.\\n\\n3. Validate the code: Use an HTML validator tool to check the code for any errors or warnings. These tools can help identify issues that might not be immediately apparent. Fix any errors or warnings that are reported.\\n\\n4. Debug the code: If the problem persists, use your browser's developer tools to inspect the HTML code and identify any runtime errors or issues. Look for error messages in the console and trace them back to the relevant code sections. Fix any bugs or errors that you find.\\n\\n5. Test in different browsers: Ensure that the HTML code works correctly across different web browsers. Test it in popular browsers like Chrome, Firefox, Safari, and Edge. If the issue is browser-specific, consider using browser-specific CSS or JavaScript fixes.\\n\\n6. Seek help from the community: If you're still unable to fix the problem, consider seeking help from online developer communities or forums. Provide the relevant code snippets and describe the issue in detail. Experienced developers might be able to provide insights or solutions.\\n\\n7. Document the fix: Once you've identified and resolved the problem, make sure to document the issue and the steps you took to fix it. This documentation will be helpful for future reference and troubleshooting.\\n\\nRemember, without specific details about the problem or the code, it's challenging to provide a more precise plan. However, following these general steps should help you identify and fix most HTML code issues.\", response_metadata={'token_usage': {'completion_tokens': 426, 'prompt_tokens': 40, 'total_tokens': 466}, 'model_name': 'gpt-3.5-turbo-16k-0613', 'system_fingerprint': None, 'finish_reason': 'stop', 'logprobs': None}, id='run-9da18945-6f92-4ac5-8367-1ce0e975c829-0', usage_metadata={'input_tokens': 40, 'output_tokens': 426, 'total_tokens': 466}),\n",
       " AIMessage(content=\"Sure, I'd be happy to help you fix the problem in the HTML code. However, you haven't provided the actual HTML code or mentioned what the problem is. Please provide the HTML code and describe the issue you are facing so that I can assist you better.\", response_metadata={'token_usage': {'completion_tokens': 54, 'prompt_tokens': 57, 'total_tokens': 111}, 'model_name': 'gpt-3.5-turbo-16k-0613', 'system_fingerprint': None, 'finish_reason': 'stop', 'logprobs': None}, id='run-8b7219f5-1409-4922-8973-af67352b3c61-0', usage_metadata={'input_tokens': 57, 'output_tokens': 54, 'total_tokens': 111}),\n",
       " AIMessage(content=\"Engineer, there is a problem in this HTML code. I want you to fix this.\\n\\nFirstly, it would be helpful if you could provide the specific issue or error you are encountering in the code. However, assuming there is an issue, here are a few general suggestions to improve the code:\\n\\n1. Ensure proper indentation: Indentation is crucial for code readability and maintainability. Make sure all elements and tags are properly indented to enhance code clarity.\\n\\n2. Use valid HTML syntax: Check if the code adheres to the HTML standards. Validate the code using an HTML validator to identify any syntax errors or missing elements.\\n\\n3. Close all tags: Ensure that all HTML tags are properly closed. Each opening tag should have a corresponding closing tag, or use self-closing tags for elements that don't require a closing tag.\\n\\n4. Check for missing or incorrect attributes: Verify that all attributes are correctly spelled and used in the appropriate elements. Make sure attribute values are enclosed in quotes, either single or double quotes.\\n\\n5. Use semantic HTML: Consider using semantic HTML elements (e.g., <header>, <nav>, <section>, <footer>) to provide a clearer structure and meaning to the content.\\n\\n6. Optimize for accessibility: Ensure that the code follows accessibility best practices. Use appropriate alt attributes for images, provide descriptive text for links, and ensure proper heading hierarchy.\\n\\n7. Test cross-browser compatibility: Test the code on different browsers and devices to ensure it renders correctly and consistently across various platforms.\\n\\nRemember to provide more specific details about the issue you are facing, so that I can provide more targeted suggestions to fix the problem.\", response_metadata={'token_usage': {'completion_tokens': 332, 'prompt_tokens': 54, 'total_tokens': 386}, 'model_name': 'gpt-3.5-turbo-16k-0613', 'system_fingerprint': None, 'finish_reason': 'stop', 'logprobs': None}, id='run-5d1549eb-c75c-4df8-b497-a8c9b0356735-0', usage_metadata={'input_tokens': 54, 'output_tokens': 332, 'total_tokens': 386})]"
      ]
     },
     "execution_count": 15,
     "metadata": {},
     "output_type": "execute_result"
    }
   ],
   "source": [
    "inputs = {\"messages\": ['<<h4 class=\"heading\">> Engineer, there is a problem in this HTML code. I want you to fix this.']}\n",
    "out = app.invoke(inputs)\n",
    "out['messages']"
   ]
  },
  {
   "cell_type": "code",
   "execution_count": 16,
   "metadata": {},
   "outputs": [
    {
     "name": "stdout",
     "output_type": "stream",
     "text": [
      "-> Calling Planner LLM ->\n",
      "-> Calling Engineer LLM ->\n",
      "-> Calling Critic LLM ->\n"
     ]
    },
    {
     "data": {
      "text/plain": [
       "['The \"Background and foreground colors do not have sufficient contrast ratio\" error means that the color contrast between a web part or text and the background is not sufficient. This error is often seen, especially in designs that do not comply with accessibility rates. Insufficient contrast can make text difficult or impossible to read, especially for users with distortion disorders.',\n",
       " AIMessage(content='Plan: Improving Contrast Ratio for Web Design\\n\\n1. Identify the areas with insufficient contrast: Start by reviewing your website or web application and identify the specific areas where the \"Background and foreground colors do not have sufficient contrast ratio\" error occurs. This could include text, buttons, icons, or any other elements that may be affected.\\n\\n2. Understand accessibility guidelines: Familiarize yourself with the accessibility guidelines, such as the Web Content Accessibility Guidelines (WCAG) 2.1, which provide specific recommendations for color contrast ratios. The WCAG 2.1 suggests a minimum contrast ratio of 4.5:1 for normal text and 3:1 for large text.\\n\\n3. Use contrast checking tools: Utilize online contrast checking tools like WebAIM\\'s Contrast Checker or Color Contrast Analyzer to evaluate the contrast ratio between the foreground (text or element) and the background color. These tools will help you determine if the contrast meets the recommended guidelines.\\n\\n4. Adjust color combinations: If the contrast ratio is found to be insufficient, modify the color combinations to improve readability. Consider using darker or lighter shades, adjusting the hue, or changing the background color to enhance the contrast. Ensure that the text or element stands out clearly against the background.\\n\\n5. Test with different devices and environments: Verify the contrast changes across various devices, screen sizes, and different lighting conditions. Test your website or application on desktops, laptops, tablets, and mobile devices to ensure the contrast remains sufficient and readable in different contexts.\\n\\n6. Consider alternative text formats: In cases where achieving sufficient contrast is challenging, consider providing alternative text formats, such as providing a high-contrast version of the content or offering a text-only option. This can help users with visual impairments access the information more easily.\\n\\n7. Document and maintain accessibility standards: Keep a record of the color combinations and contrast ratios used to ensure consistency and compliance with accessibility standards. Regularly review and update your design guidelines to maintain accessibility as new content or features are added.\\n\\n8. Educate designers and developers: Raise awareness among your design and development teams about the importance of color contrast and accessibility. Provide training or resources on designing with accessibility in mind, including the significance of contrast ratios and how to achieve them effectively.\\n\\nBy following these steps, you can improve the contrast ratio of your web design, making it more accessible and readable for all users, including those with visual impairments or distortion disorders.', response_metadata={'token_usage': {'completion_tokens': 490, 'prompt_tokens': 82, 'total_tokens': 572}, 'model_name': 'gpt-3.5-turbo-16k-0613', 'system_fingerprint': None, 'finish_reason': 'stop', 'logprobs': None}, id='run-66cc4d36-b677-4bdd-af57-668e0dbccd03-0', usage_metadata={'input_tokens': 82, 'output_tokens': 490, 'total_tokens': 572}),\n",
       " AIMessage(content='To fix the \"Background and foreground colors do not have sufficient contrast ratio\" error, you need to adjust the colors to ensure a higher contrast ratio. Here\\'s how you can do it using HTML and CSS:\\n\\n1. Identify the elements that have insufficient contrast. This could be text, buttons, or any other element that needs to be readable.\\n\\n2. Determine the current foreground color (text color) and background color of the element. You can do this by inspecting the element using your browser\\'s developer tools.\\n\\n3. Calculate the contrast ratio between the foreground and background colors. The contrast ratio is a number that represents the difference in luminance between two colors. There are online tools available to calculate the contrast ratio, or you can use the following formula:\\n\\n   contrast ratio = (L1 + 0.05) / (L2 + 0.05)\\n\\n   Where L1 is the relative luminance of the lighter color and L2 is the relative luminance of the darker color. The relative luminance can be calculated using the formula:\\n\\n   relative luminance = (R * 0.2126 + G * 0.7152 + B * 0.0722) / 255\\n\\n   Where R, G, and B are the red, green, and blue values of the color respectively.\\n\\n4. Check if the calculated contrast ratio meets the accessibility standards. The Web Content Accessibility Guidelines (WCAG) recommend a minimum contrast ratio of 4.5:1 for normal text and 3:1 for large text.\\n\\n5. If the contrast ratio is below the recommended values, you need to adjust the colors. You can either change the foreground color, background color, or both to achieve a higher contrast ratio.\\n\\n   For example, if the text color is too light, you can make it darker. If the background color is too dark, you can make it lighter. Alternatively, you can choose a completely different color combination that provides sufficient contrast.\\n\\n6. Apply the new colors to your HTML elements using CSS. You can use the `color` property to change the text color and the `background-color` property to change the background color.\\n\\n   For example, if you want to change the text color to black and the background color to white, you can use the following CSS:\\n\\n   ```css\\n   .my-element {\\n     color: black;\\n     background-color: white;\\n   }\\n   ```\\n\\n7. Test the updated colors to ensure that the contrast ratio is now sufficient. You can use browser extensions or online tools to check the contrast ratio of your elements.\\n\\nBy following these steps, you can fix the insufficient contrast error and make your web content more accessible to users with visual impairments.', response_metadata={'token_usage': {'completion_tokens': 551, 'prompt_tokens': 99, 'total_tokens': 650}, 'model_name': 'gpt-3.5-turbo-16k-0613', 'system_fingerprint': None, 'finish_reason': 'stop', 'logprobs': None}, id='run-d5a745a3-df2c-4db1-a3d7-9547ddd27aeb-0', usage_metadata={'input_tokens': 99, 'output_tokens': 551, 'total_tokens': 650}),\n",
       " AIMessage(content='The engineer should consider improving the contrast ratio between the background and foreground colors to ensure better readability and compliance with accessibility standards. This can be achieved by selecting colors that have a higher contrast ratio, making the text more legible for all users, including those with visual impairments. Additionally, it would be beneficial to test the color combinations using tools or guidelines provided by accessibility standards to ensure compliance.', response_metadata={'token_usage': {'completion_tokens': 78, 'prompt_tokens': 96, 'total_tokens': 174}, 'model_name': 'gpt-3.5-turbo-16k-0613', 'system_fingerprint': None, 'finish_reason': 'stop', 'logprobs': None}, id='run-065326b2-9270-4d8b-abc5-a74c7f424381-0', usage_metadata={'input_tokens': 96, 'output_tokens': 78, 'total_tokens': 174})]"
      ]
     },
     "execution_count": 16,
     "metadata": {},
     "output_type": "execute_result"
    }
   ],
   "source": [
    "inputs = {\"messages\": ['The \"Background and foreground colors do not have sufficient contrast ratio\" error means that the color contrast between a web part or text and the background is not sufficient. This error is often seen, especially in designs that do not comply with accessibility rates. Insufficient contrast can make text difficult or impossible to read, especially for users with distortion disorders.']}\n",
    "out = app.invoke(inputs)\n",
    "out['messages']"
   ]
  },
  {
   "cell_type": "code",
   "execution_count": 18,
   "metadata": {},
   "outputs": [
    {
     "name": "stdout",
     "output_type": "stream",
     "text": [
      "-> Calling Planner LLM ->\n",
      "-> Calling Engineer LLM ->\n",
      "-> Calling Critic LLM ->\n"
     ]
    },
    {
     "data": {
      "text/plain": [
       "['The \"Heading elements are not in a sequentially-descending order\" error typically occurs when HTML heading tags (e.g., <h1>, <h2>, <h3>, etc.) are not used in the proper hierarchical sequence. This can cause accessibility issues and make it difficult for screen readers and other assistive technologies to properly navigate and interpret the content structure.',\n",
       " AIMessage(content='Plan: Fixing the \"Heading elements are not in a sequentially-descending order\" error\\n\\n1. Identify the web page or document where the error is occurring. This could be a specific HTML file or a content management system (CMS) where the content is being generated.\\n\\n2. Review the current heading structure of the page. Look for any instances where heading tags are not used in a sequentially-descending order (e.g., <h1> followed by <h3> instead of <h2>).\\n\\n3. Determine the correct hierarchical sequence for the headings. The heading structure should follow a logical order, with the main heading as <h1> and subsequent subheadings using <h2>, <h3>, and so on.\\n\\n4. Update the HTML code to correct the heading structure. Replace any incorrectly ordered heading tags with the appropriate tags in the correct order.\\n\\n5. Test the updated page for accessibility. Use screen readers and other assistive technologies to navigate and interpret the content structure. Ensure that the headings are read in the correct order and that the content is easily understandable.\\n\\n6. Repeat the process for any other pages or documents where the error is present.\\n\\n7. Consider implementing a consistent heading structure across the entire website or document set. This will help maintain accessibility and improve the overall user experience.\\n\\n8. Document the changes made and update any relevant style guides or documentation to ensure consistency in future content creation.\\n\\n9. Regularly review and maintain the heading structure to prevent the error from reoccurring. This can be done during routine website or content audits.\\n\\n10. Educate content creators and developers about the importance of using heading tags in a sequentially-descending order. Provide guidelines and best practices to ensure consistent and accessible content creation.\\n\\nBy following this plan, you can fix the \"Heading elements are not in a sequentially-descending order\" error and improve the accessibility and usability of your web pages or documents.', response_metadata={'token_usage': {'completion_tokens': 387, 'prompt_tokens': 87, 'total_tokens': 474}, 'model_name': 'gpt-3.5-turbo-16k-0613', 'system_fingerprint': None, 'finish_reason': 'stop', 'logprobs': None}, id='run-2f006b75-4eb6-4b83-bcd6-24f72af9afcb-0', usage_metadata={'input_tokens': 87, 'output_tokens': 387, 'total_tokens': 474}),\n",
       " AIMessage(content='To fix the \"Heading elements are not in a sequentially-descending order\" error, you need to ensure that you use the heading tags in the correct hierarchical order. The heading tags should be used in a descending order, starting with the <h1> tag for the main heading, followed by <h2> for subheadings, <h3> for sub-subheadings, and so on.\\n\\nHere\\'s an example of how the heading tags should be used in a proper hierarchical sequence:\\n\\n```html\\n<h1>Main Heading</h1>\\n<h2>Subheading</h2>\\n<h3>Sub-subheading</h3>\\n```\\n\\nMake sure to avoid skipping heading levels or using them out of order. For instance, using an <h3> tag directly after an <h1> tag would cause the error.\\n\\nBy following this proper hierarchical sequence, you ensure that the content structure is correctly interpreted by assistive technologies and improves accessibility for users.', response_metadata={'token_usage': {'completion_tokens': 195, 'prompt_tokens': 104, 'total_tokens': 299}, 'model_name': 'gpt-3.5-turbo-16k-0613', 'system_fingerprint': None, 'finish_reason': 'stop', 'logprobs': None}, id='run-615f65cb-0318-473e-9490-c289ec07bf30-0', usage_metadata={'input_tokens': 104, 'output_tokens': 195, 'total_tokens': 299}),\n",
       " AIMessage(content='The \"Heading elements are not in a sequentially-descending order\" error typically occurs when HTML heading tags (e.g., <h1>, <h2>, <h3>, etc.) are not used in the proper hierarchical sequence. This can cause accessibility issues and make it difficult for screen readers and other assistive technologies to properly navigate and interpret the content structure.\\n\\nTo address this issue, I suggest reordering the heading elements in a sequentially-descending order. This means ensuring that the <h1> tag is used for the main heading of the page, followed by <h2> for subheadings, <h3> for sub-subheadings, and so on. By maintaining a logical hierarchy, it will enhance the accessibility of the content and improve the user experience for individuals relying on assistive technologies.', response_metadata={'token_usage': {'completion_tokens': 164, 'prompt_tokens': 101, 'total_tokens': 265}, 'model_name': 'gpt-3.5-turbo-16k-0613', 'system_fingerprint': None, 'finish_reason': 'stop', 'logprobs': None}, id='run-01d0c7e5-121f-4530-aed4-8e562cf72bc1-0', usage_metadata={'input_tokens': 101, 'output_tokens': 164, 'total_tokens': 265})]"
      ]
     },
     "execution_count": 18,
     "metadata": {},
     "output_type": "execute_result"
    }
   ],
   "source": [
    "inputs = {\"messages\": ['The \"Heading elements are not in a sequentially-descending order\" error typically occurs when HTML heading tags (e.g., <h1>, <h2>, <h3>, etc.) are not used in the proper hierarchical sequence. This can cause accessibility issues and make it difficult for screen readers and other assistive technologies to properly navigate and interpret the content structure.']}\n",
    "out = app.invoke(inputs)\n",
    "out['messages']"
   ]
  }
 ],
 "metadata": {
  "kernelspec": {
   "display_name": "langchain",
   "language": "python",
   "name": "python3"
  },
  "language_info": {
   "codemirror_mode": {
    "name": "ipython",
    "version": 3
   },
   "file_extension": ".py",
   "mimetype": "text/x-python",
   "name": "python",
   "nbconvert_exporter": "python",
   "pygments_lexer": "ipython3",
   "version": "3.11.8"
  }
 },
 "nbformat": 4,
 "nbformat_minor": 2
}
